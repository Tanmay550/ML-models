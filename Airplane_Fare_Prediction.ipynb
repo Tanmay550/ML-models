{
 "cells": [
  {
   "cell_type": "code",
   "execution_count": 1,
   "id": "194f8fcc-1c00-475f-addd-5b1eafda4f6d",
   "metadata": {},
   "outputs": [],
   "source": [
    "import h5py\n",
    "import numpy as np\n",
    "import tensorflow as tf\n",
    "import matplotlib.pyplot as plt\n",
    "import pandas as pd\n",
    "from tensorflow.keras.models import Sequential\n",
    "from tensorflow.keras.layers import Dense\n",
    "from sklearn.model_selection import train_test_split\n",
    "from sklearn.preprocessing import LabelEncoder"
   ]
  },
  {
   "cell_type": "code",
   "execution_count": 2,
   "id": "29523491-9f30-4423-a94b-9dca84ab976b",
   "metadata": {},
   "outputs": [],
   "source": [
    "dataset_path = 'Cleaned_dataset.csv'\n",
    "\n",
    "# Load data into a DataFrame\n",
    "Airplane_fare_data = pd.read_csv(dataset_path).head(15000)\n",
    "\n",
    "label_encoder = LabelEncoder()\n",
    "dates = Airplane_fare_data['Date_of_journey']\n",
    "dates = dates.to_numpy().reshape(-1, 1)\n",
    "\n",
    "\n",
    "# Encoding Data \n",
    "Airplane_fare_data_encoded = pd.get_dummies(Airplane_fare_data, columns=['Journey_day', 'Airline', 'Flight_code', 'Source', 'Departure', 'Total_stops', 'Arrival', 'Destination', 'Class'])\n",
    "# Combine encoded features with the original DataFrame\n",
    "Airplane_fare_data_combined = pd.concat([Airplane_fare_data, Airplane_fare_data_encoded], axis=1)\n",
    "\n",
    "X = Airplane_fare_data_combined.drop(['Journey_day', 'Airline', 'Flight_code', 'Source', 'Departure', 'Total_stops', 'Arrival', 'Destination', 'Fare', 'Date_of_journey', 'Class'],axis=1).to_numpy()\n",
    "y = Airplane_fare_data_combined['Fare'].to_numpy()\n",
    "X = X.astype(np.int32)\n",
    "y = y.astype(np.int32)\n",
    "\n",
    "#X_with_dates = np.concatenate((X, dates), axis=1)\n",
    "\n",
    "X_train, X_dev, y_train, y_dev = train_test_split(X, y, test_size=0.1, random_state=42)"
   ]
  },
  {
   "cell_type": "code",
   "execution_count": 3,
   "id": "afa27a8a-bee9-4921-8e93-387ce9b2ce33",
   "metadata": {},
   "outputs": [],
   "source": [
    "model=Sequential([tf.keras.Input(shape=(X_train.shape[1],)),\n",
    "                  tf.keras.layers.Dense(1500,activation=\"relu\",  kernel_regularizer=tf.keras.regularizers.l2(10)),\n",
    "                  tf.keras.layers.Dense(1300,activation=\"relu\", kernel_regularizer=tf.keras.regularizers.l2(10)),\n",
    "                  tf.keras.layers.Dense(500,activation=\"relu\", kernel_regularizer=tf.keras.regularizers.l2(10)),\n",
    "                  tf.keras.layers.Dense(100,activation=\"relu\", kernel_regularizer=tf.keras.regularizers.l2(10)),\n",
    "                  tf.keras.layers.Dense(75,activation=\"relu\", kernel_regularizer=tf.keras.regularizers.l2(10)),\n",
    "                  tf.keras.layers.Dense(30,activation=\"relu\", kernel_regularizer=tf.keras.regularizers.l2(10)),\n",
    "                  tf.keras.layers.Dense(1,activation=\"linear\", kernel_regularizer=tf.keras.regularizers.l2(10))\n",
    "                 ])"
   ]
  },
  {
   "cell_type": "code",
   "execution_count": 4,
   "id": "89b4187c-e544-470f-b648-e72766575583",
   "metadata": {},
   "outputs": [],
   "source": [
    "model.compile(\n",
    "   loss= tf.keras.losses.MeanSquaredError(),\n",
    "    optimizer=tf.keras.optimizers.Adam(0.1),\n",
    ")\n"
   ]
  },
  {
   "cell_type": "code",
   "execution_count": null,
   "id": "09a7ceb0-8b7f-42b7-8d00-cbeedd18cfad",
   "metadata": {},
   "outputs": [
    {
     "name": "stdout",
     "output_type": "stream",
     "text": [
      "Epoch 1/30\n",
      "132/422 [========>.....................] - ETA: 18s - loss: 500976353280.0000"
     ]
    }
   ],
   "source": [
    "model.fit(\n",
    "    X_train,y_train,\n",
    "    epochs=30,\n",
    "    validation_data=(X_dev, y_dev)\n",
    ")"
   ]
  },
  {
   "cell_type": "code",
   "execution_count": null,
   "id": "27b94770-5353-4c85-9510-16034626d24d",
   "metadata": {},
   "outputs": [],
   "source": [
    "prediction = model.predict(X_dev)\n",
    "np.argmax(((prediction-y_dev)/y_dev)*100)"
   ]
  },
  {
   "cell_type": "code",
   "execution_count": null,
   "id": "fd39ead8-823b-49aa-97e6-6d76bedfabe1",
   "metadata": {},
   "outputs": [],
   "source": [
    "prediction"
   ]
  },
  {
   "cell_type": "code",
   "execution_count": null,
   "id": "8bde6e4a-cae0-4e0a-ae84-98c51b1ba8c3",
   "metadata": {},
   "outputs": [],
   "source": [
    "y_dev"
   ]
  },
  {
   "cell_type": "code",
   "execution_count": null,
   "id": "052c10df-8c50-4a21-9134-33fe14748395",
   "metadata": {},
   "outputs": [],
   "source": []
  }
 ],
 "metadata": {
  "kernelspec": {
   "display_name": "Python 3 (ipykernel)",
   "language": "python",
   "name": "python3"
  },
  "language_info": {
   "codemirror_mode": {
    "name": "ipython",
    "version": 3
   },
   "file_extension": ".py",
   "mimetype": "text/x-python",
   "name": "python",
   "nbconvert_exporter": "python",
   "pygments_lexer": "ipython3",
   "version": "3.11.5"
  }
 },
 "nbformat": 4,
 "nbformat_minor": 5
}
